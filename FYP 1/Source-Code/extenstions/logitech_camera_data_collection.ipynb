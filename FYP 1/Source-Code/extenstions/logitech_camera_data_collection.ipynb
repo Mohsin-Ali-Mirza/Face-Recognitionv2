{
 "cells": [
  {
   "cell_type": "code",
   "execution_count": 2,
   "metadata": {},
   "outputs": [],
   "source": [
    "import os\n",
    "import numpy as np\n",
    "import cv2\n",
    "from matplotlib import pyplot as plt\n",
    "import time\n",
    "# Path for exported data, numpy arrays\n",
    "\n",
    "# Actions that we try to detect\n",
    "actions = np.array(['left-to-right', 'right-to-left', 'up-to-down','down-to-up', 'random'])\n",
    "\n",
    "# Thirty videos worth of data\n",
    "no_sequences = 2\n",
    "\n",
    "# Videos are going to be 30 frames in length\n",
    "sequence_length = 60"
   ]
  },
  {
   "cell_type": "code",
   "execution_count": 3,
   "metadata": {},
   "outputs": [
    {
     "name": "stdout",
     "output_type": "stream",
     "text": [
      "20k0259\n"
     ]
    }
   ],
   "source": [
    "id=input(\"Enter Student ID\")\n",
    "print(id)"
   ]
  },
  {
   "cell_type": "code",
   "execution_count": 4,
   "metadata": {},
   "outputs": [
    {
     "name": "stdout",
     "output_type": "stream",
     "text": [
      "Simple: 0\n",
      "Beard: 1\n",
      "Scarf: 2\n",
      "Beard_and_Glasses: 3\n",
      "Glasses: 4\n",
      "Cap: 5\n",
      "Glass_and_Cap: 6\n",
      "Cap_and_Beard: 7\n",
      "All: 8\n",
      "You selected Simple.\n"
     ]
    }
   ],
   "source": [
    "# Create a dictionary to store the attributes and their corresponding indices\n",
    "attributes = {\"Simple\": 0, \"Beard\": 1, \"Scarf\": 2, \"Beard_and_Glasses\": 3, \"Glasses\": 4, \"Cap\": 5, \"Glass_and_Cap\": 6, \"Cap_and_Beard\": 7, \"All\": 8}\n",
    "\n",
    "# Print the attributes and their corresponding indices as key-value pairs\n",
    "for key, value in attributes.items():\n",
    "    print(f\"{key}: {value}\")\n",
    "\n",
    "# Get the user's input for the desired index\n",
    "index = int(input(\"Enter the index of the attribute you want to select: \"))\n",
    "\n",
    "# Validate the user's input\n",
    "if index < 0 or index > len(attributes) - 1:\n",
    "    print(\"Invalid index.\")\n",
    "else:\n",
    "    # Get the selected attribute based on the provided index\n",
    "    selected_attribute = list(attributes.keys())[index]\n",
    "    print(f\"You selected {selected_attribute}.\")\n",
    "\n",
    "    # Print the contents of the selected attribute folder"
   ]
  },
  {
   "cell_type": "code",
   "execution_count": 5,
   "metadata": {},
   "outputs": [],
   "source": [
    "DATA_PATH = os.path.join('MP_Data') \n",
    "attributes=[\"Simple\",\"Beard\",\"Scarf\",\"Beard_and_Glasses\",\"Glasses\",\"Cap\",\"Glass_and_Cap\",\"Cap_and_Beard\",\"All\"]\n",
    "if not os.path.exists(DATA_PATH):\n",
    "    os.makedirs(os.path.join(DATA_PATH))\n",
    "for attribute in attributes:\n",
    "    if not os.path.exists(os.path.join(DATA_PATH,id)):\n",
    "        os.makedirs(os.path.join(DATA_PATH,id))\n",
    "    else:\n",
    "        pass\n",
    "for action in actions: \n",
    "    for sequence in range(no_sequences):\n",
    "            if not os.path.exists((os.path.join(DATA_PATH,id,selected_attribute ,action, str(sequence)))):\n",
    "                os.makedirs(os.path.join(DATA_PATH,id,selected_attribute ,action, str(sequence)))"
   ]
  },
  {
   "cell_type": "code",
   "execution_count": 1,
   "metadata": {},
   "outputs": [
    {
     "ename": "NameError",
     "evalue": "name 'cv2' is not defined",
     "output_type": "error",
     "traceback": [
      "\u001b[1;31m---------------------------------------------------------------------------\u001b[0m",
      "\u001b[1;31mNameError\u001b[0m                                 Traceback (most recent call last)",
      "\u001b[1;32mc:\\Users\\hp\\Desktop\\face_detection\\ip_camera_data_collection.ipynb Cell 5\u001b[0m line \u001b[0;36m3\n\u001b[0;32m      <a href='vscode-notebook-cell:/c%3A/Users/hp/Desktop/face_detection/ip_camera_data_collection.ipynb#W4sZmlsZQ%3D%3D?line=0'>1</a>\u001b[0m counter\u001b[39m=\u001b[39m\u001b[39m0\u001b[39m\n\u001b[0;32m      <a href='vscode-notebook-cell:/c%3A/Users/hp/Desktop/face_detection/ip_camera_data_collection.ipynb#W4sZmlsZQ%3D%3D?line=1'>2</a>\u001b[0m \u001b[39m# cap = cv2.VideoCapture(\"rtsp://admin:Fast1234@{ip_address}/cam/realmonitor?channel=1&subtype=0\")\u001b[39;00m\n\u001b[1;32m----> <a href='vscode-notebook-cell:/c%3A/Users/hp/Desktop/face_detection/ip_camera_data_collection.ipynb#W4sZmlsZQ%3D%3D?line=2'>3</a>\u001b[0m cap \u001b[39m=\u001b[39m cv2\u001b[39m.\u001b[39mVideoCapture(\u001b[39m0\u001b[39m)\n\u001b[0;32m      <a href='vscode-notebook-cell:/c%3A/Users/hp/Desktop/face_detection/ip_camera_data_collection.ipynb#W4sZmlsZQ%3D%3D?line=4'>5</a>\u001b[0m \u001b[39m# # NEW LOOP\u001b[39;00m\n\u001b[0;32m      <a href='vscode-notebook-cell:/c%3A/Users/hp/Desktop/face_detection/ip_camera_data_collection.ipynb#W4sZmlsZQ%3D%3D?line=5'>6</a>\u001b[0m \u001b[39m# Loop through actions\u001b[39;00m\n\u001b[0;32m      <a href='vscode-notebook-cell:/c%3A/Users/hp/Desktop/face_detection/ip_camera_data_collection.ipynb#W4sZmlsZQ%3D%3D?line=6'>7</a>\u001b[0m \u001b[39mfor\u001b[39;00m action \u001b[39min\u001b[39;00m actions:\n\u001b[0;32m      <a href='vscode-notebook-cell:/c%3A/Users/hp/Desktop/face_detection/ip_camera_data_collection.ipynb#W4sZmlsZQ%3D%3D?line=7'>8</a>\u001b[0m     \u001b[39m# Loop through sequences aka videos\u001b[39;00m\n",
      "\u001b[1;31mNameError\u001b[0m: name 'cv2' is not defined"
     ]
    }
   ],
   "source": [
    "counter=0\n",
    "# cap = cv2.VideoCapture(\"rtsp://admin:Fast1234@{ip_address}/cam/realmonitor?channel=1&subtype=0\")\n",
    "cap = cv2.VideoCapture(0)\n",
    "\n",
    "# # NEW LOOP\n",
    "# Loop through actions\n",
    "for action in actions:\n",
    "    # Loop through sequences aka videos\n",
    "    for sequence in range(no_sequences):\n",
    "        # time.sleep(0.5)\n",
    "        # Loop through video length aka sequence length\n",
    "        existing_filenames = set()\n",
    "        for filename in os.listdir(os.path.join(DATA_PATH, id, selected_attribute,action,str(sequence))):\n",
    "            counter+=1\n",
    "        counter+=1\n",
    "        print((counter))\n",
    "        # counter=len(existing_filenames)+1\n",
    "        for frame_num in range(sequence_length):\n",
    "            # Read the frame\n",
    "            ret, img = cap.read()\n",
    "            img = cv2.flip(img, 1)\n",
    "\n",
    "\n",
    "            # NEW Apply wait logic\n",
    "            if frame_num == 0:\n",
    "                print(\"########Photo is being taken#######\")\n",
    "                cv2.putText(img, 'STARTING COLLECTION '+ action +':', (120,200), \n",
    "                            cv2.FONT_HERSHEY_SIMPLEX, 1, (0,255, 0), 4, cv2.LINE_AA)\n",
    "                # time.sleep(1)\n",
    "                # board.digital[13].write(0)\n",
    "                print(\"########Successfuln#######\")\n",
    "                cv2.putText(img, 'Collecting frames for {} Video Number {}'.format(action, sequence), (15,12), \n",
    "                            cv2.FONT_HERSHEY_SIMPLEX, 0.5, (0, 0, 255), 1, cv2.LINE_AA)\n",
    "                # Show to screen\n",
    "                cv2.imshow('Img', img)\n",
    "                cv2.waitKey(2000)\n",
    "            else: \n",
    "                cv2.putText(img, 'Collecting frames for {} Video Number {}'.format(action, sequence), (15,12), \n",
    "                            cv2.FONT_HERSHEY_SIMPLEX, 0.5, (0, 0, 255), 1, cv2.LINE_AA)\n",
    "                # Show to screen\n",
    "                cv2.imshow('Img', img)\n",
    "\n",
    "\n",
    "        \n",
    "        \n",
    "            \n",
    "\n",
    "            # Create a directory for each action and sequence if it doesn't exist\n",
    "            action_dir = os.path.join(DATA_PATH,id,selected_attribute ,action, str(sequence))\n",
    "            os.makedirs(action_dir, exist_ok=True)\n",
    "            \n",
    "            # Construct the filename for the image\n",
    "            image_filename = os.path.join(action_dir, f\"{frame_num:04d}_{counter}.jpg\")\n",
    "            \n",
    "            # Save the frame as an image\n",
    "            cv2.imwrite(image_filename, img)\n",
    "\n",
    "            # Stop if escape key is pressed\n",
    "            k = cv2.waitKey(30) & 0xff\n",
    "            if k==27:\n",
    "                break\n",
    "            if k==ord('q'):\n",
    "                break\n",
    "        k = cv2.waitKey(30) & 0xff\n",
    "        if k==27:\n",
    "            break\n",
    "        if k==ord('q'):\n",
    "            break                \n",
    "\n",
    "    k = cv2.waitKey(30) & 0xff\n",
    "    if k==27:\n",
    "        break\n",
    "    if k==ord('q'):\n",
    "        break                \n",
    "# Release the VideoCapture object\n",
    "cap.release()\n",
    "cv2.destroyAllWindows()\n"
   ]
  }
 ],
 "metadata": {
  "kernelspec": {
   "display_name": "Python 3",
   "language": "python",
   "name": "python3"
  },
  "language_info": {
   "codemirror_mode": {
    "name": "ipython",
    "version": 3
   },
   "file_extension": ".py",
   "mimetype": "text/x-python",
   "name": "python",
   "nbconvert_exporter": "python",
   "pygments_lexer": "ipython3",
   "version": "3.10.13"
  }
 },
 "nbformat": 4,
 "nbformat_minor": 2
}
