{
 "cells": [
  {
   "cell_type": "code",
   "execution_count": 1,
   "metadata": {},
   "outputs": [
    {
     "name": "stdout",
     "output_type": "stream",
     "text": [
      "Requirement already satisfied: pyfirmata in c:\\users\\hp\\miniconda3\\envs\\waleed\\lib\\site-packages (1.1.0)\n",
      "Requirement already satisfied: pyserial in c:\\users\\hp\\miniconda3\\envs\\waleed\\lib\\site-packages (from pyfirmata) (3.5)\n"
     ]
    }
   ],
   "source": [
    "!pip install pyfirmata"
   ]
  },
  {
   "cell_type": "code",
   "execution_count": 2,
   "metadata": {},
   "outputs": [],
   "source": [
    "import time\n",
    "import pyfirmata\n",
    "board = pyfirmata.Arduino('COM3')\n",
    "it=pyfirmata.util.Iterator(board)\n",
    "it.start()"
   ]
  },
  {
   "cell_type": "code",
   "execution_count": null,
   "metadata": {},
   "outputs": [],
   "source": []
  },
  {
   "cell_type": "code",
   "execution_count": 3,
   "metadata": {},
   "outputs": [],
   "source": [
    "def blinkLED():\n",
    "    print(\"########Photo is being taken#######\")\n",
    "    board.digital[13].write(1)\n",
    "    time.sleep(2)\n",
    "    print(\"########Successfuln#######\")\n",
    "    board.digital[13].write(0)"
   ]
  },
  {
   "cell_type": "code",
   "execution_count": 4,
   "metadata": {},
   "outputs": [],
   "source": [
    "# blinkLED()"
   ]
  },
  {
   "cell_type": "code",
   "execution_count": 5,
   "metadata": {},
   "outputs": [
    {
     "name": "stderr",
     "output_type": "stream",
     "text": [
      "c:\\Users\\hp\\miniconda3\\envs\\waleed\\lib\\site-packages\\tqdm\\auto.py:21: TqdmWarning: IProgress not found. Please update jupyter and ipywidgets. See https://ipywidgets.readthedocs.io/en/stable/user_install.html\n",
      "  from .autonotebook import tqdm as notebook_tqdm\n"
     ]
    }
   ],
   "source": [
    "import cv2\n",
    "import ultralytics\n",
    "import numpy as np\n",
    "import pandas as pd\n",
    "\n",
    "# Load the YOLO model\n",
    "model = ultralytics.YOLO(\"yolov8n-face.pt\")\n",
    "\n",
    "imgBackground = cv2.imread('Frontend/background2.png')\n",
    "verifiedBackground = cv2.imread('Frontend/congratulations.png')\n",
    "imgStudent = cv2.imread(\"Frontend/toji.jpg\")"
   ]
  },
  {
   "cell_type": "code",
   "execution_count": 6,
   "metadata": {},
   "outputs": [],
   "source": [
    "def putText():\n",
    "    info = {\n",
    "    \"Total_Attendance\": [10],\n",
    "    \"ID\": [\"k200353\"],\n",
    "    \"Name\": [\"not Mohsin Ali Mirza\"],\n",
    "    \"Field\": [\"BSCS\"],\n",
    "}\n",
    "\n",
    "    studentInfo = pd.DataFrame(info)\n",
    "\n",
    "\n",
    "    cv2.putText(imgBackground, str(studentInfo['Total_Attendance'].iloc[0]), (878, 127),\n",
    "                                cv2.FONT_HERSHEY_COMPLEX, 1, (255, 255, 255), 1)\n",
    "    \n",
    "    cv2.putText(imgBackground, str(studentInfo['ID'].iloc[0]), (958, 471),\n",
    "                cv2.FONT_HERSHEY_COMPLEX, 0.5, (255, 255, 255), 1)\n",
    "    \n",
    "    (w, h), _ = cv2.getTextSize(studentInfo['Name'][0], cv2.FONT_HERSHEY_COMPLEX, 1, 1)\n",
    "    offset = (414 - w) // 2\n",
    "    cv2.putText(imgBackground, str(studentInfo['Name'].iloc[0]), (917 + offset, 541),\n",
    "                cv2.FONT_HERSHEY_COMPLEX, 0.5, (255, 255, 255), 1)\n",
    "\n",
    "    cv2.putText(imgBackground, str(studentInfo['Field'].iloc[0]), (975, 613),\n",
    "                cv2.FONT_HERSHEY_COMPLEX, 0.5, (255, 255, 255), 1)\n",
    "    \n",
    "    \n",
    "    resized_imgStudent = cv2.resize(imgStudent, (216, 216))\n",
    "    imgBackground[177: 177 + 216, 931:931 + 216] = resized_imgStudent\n",
    "    \n"
   ]
  },
  {
   "cell_type": "code",
   "execution_count": 8,
   "metadata": {},
   "outputs": [
    {
     "name": "stdout",
     "output_type": "stream",
     "text": [
      "Requirement already satisfied: ultralytics in c:\\users\\hp\\miniconda3\\envs\\waleed\\lib\\site-packages (8.0.209)\n",
      "Requirement already satisfied: matplotlib>=3.3.0 in c:\\users\\hp\\miniconda3\\envs\\waleed\\lib\\site-packages (from ultralytics) (3.8.2)\n",
      "Requirement already satisfied: numpy>=1.22.2 in c:\\users\\hp\\miniconda3\\envs\\waleed\\lib\\site-packages (from ultralytics) (1.23.5)\n",
      "Requirement already satisfied: opencv-python>=4.6.0 in c:\\users\\hp\\miniconda3\\envs\\waleed\\lib\\site-packages (from ultralytics) (4.8.1.78)\n",
      "Requirement already satisfied: pillow>=7.1.2 in c:\\users\\hp\\miniconda3\\envs\\waleed\\lib\\site-packages (from ultralytics) (10.1.0)\n",
      "Requirement already satisfied: pyyaml>=5.3.1 in c:\\users\\hp\\miniconda3\\envs\\waleed\\lib\\site-packages (from ultralytics) (6.0.1)\n",
      "Requirement already satisfied: requests>=2.23.0 in c:\\users\\hp\\miniconda3\\envs\\waleed\\lib\\site-packages (from ultralytics) (2.31.0)\n",
      "Requirement already satisfied: scipy>=1.4.1 in c:\\users\\hp\\miniconda3\\envs\\waleed\\lib\\site-packages (from ultralytics) (1.11.4)\n",
      "Requirement already satisfied: torch>=1.8.0 in c:\\users\\hp\\miniconda3\\envs\\waleed\\lib\\site-packages (from ultralytics) (2.1.0)\n",
      "Requirement already satisfied: torchvision>=0.9.0 in c:\\users\\hp\\miniconda3\\envs\\waleed\\lib\\site-packages (from ultralytics) (0.16.0)\n",
      "Requirement already satisfied: tqdm>=4.64.0 in c:\\users\\hp\\miniconda3\\envs\\waleed\\lib\\site-packages (from ultralytics) (4.66.1)\n",
      "Requirement already satisfied: pandas>=1.1.4 in c:\\users\\hp\\miniconda3\\envs\\waleed\\lib\\site-packages (from ultralytics) (2.1.3)\n",
      "Requirement already satisfied: seaborn>=0.11.0 in c:\\users\\hp\\miniconda3\\envs\\waleed\\lib\\site-packages (from ultralytics) (0.13.0)\n",
      "Requirement already satisfied: psutil in c:\\users\\hp\\miniconda3\\envs\\waleed\\lib\\site-packages (from ultralytics) (5.9.0)\n",
      "Requirement already satisfied: py-cpuinfo in c:\\users\\hp\\miniconda3\\envs\\waleed\\lib\\site-packages (from ultralytics) (9.0.0)\n",
      "Requirement already satisfied: thop>=0.1.1 in c:\\users\\hp\\miniconda3\\envs\\waleed\\lib\\site-packages (from ultralytics) (0.1.1.post2209072238)\n",
      "Requirement already satisfied: contourpy>=1.0.1 in c:\\users\\hp\\miniconda3\\envs\\waleed\\lib\\site-packages (from matplotlib>=3.3.0->ultralytics) (1.2.0)\n",
      "Requirement already satisfied: cycler>=0.10 in c:\\users\\hp\\miniconda3\\envs\\waleed\\lib\\site-packages (from matplotlib>=3.3.0->ultralytics) (0.12.1)\n",
      "Requirement already satisfied: fonttools>=4.22.0 in c:\\users\\hp\\miniconda3\\envs\\waleed\\lib\\site-packages (from matplotlib>=3.3.0->ultralytics) (4.46.0)\n",
      "Requirement already satisfied: kiwisolver>=1.3.1 in c:\\users\\hp\\miniconda3\\envs\\waleed\\lib\\site-packages (from matplotlib>=3.3.0->ultralytics) (1.4.5)\n",
      "Requirement already satisfied: packaging>=20.0 in c:\\users\\hp\\miniconda3\\envs\\waleed\\lib\\site-packages (from matplotlib>=3.3.0->ultralytics) (23.2)\n",
      "Requirement already satisfied: pyparsing>=2.3.1 in c:\\users\\hp\\miniconda3\\envs\\waleed\\lib\\site-packages (from matplotlib>=3.3.0->ultralytics) (3.1.1)\n",
      "Requirement already satisfied: python-dateutil>=2.7 in c:\\users\\hp\\miniconda3\\envs\\waleed\\lib\\site-packages (from matplotlib>=3.3.0->ultralytics) (2.8.2)\n",
      "Requirement already satisfied: pytz>=2020.1 in c:\\users\\hp\\miniconda3\\envs\\waleed\\lib\\site-packages (from pandas>=1.1.4->ultralytics) (2023.3.post1)\n",
      "Requirement already satisfied: tzdata>=2022.1 in c:\\users\\hp\\miniconda3\\envs\\waleed\\lib\\site-packages (from pandas>=1.1.4->ultralytics) (2023.3)\n",
      "Requirement already satisfied: charset-normalizer<4,>=2 in c:\\users\\hp\\miniconda3\\envs\\waleed\\lib\\site-packages (from requests>=2.23.0->ultralytics) (3.3.2)\n",
      "Requirement already satisfied: idna<4,>=2.5 in c:\\users\\hp\\miniconda3\\envs\\waleed\\lib\\site-packages (from requests>=2.23.0->ultralytics) (3.6)\n",
      "Requirement already satisfied: urllib3<3,>=1.21.1 in c:\\users\\hp\\miniconda3\\envs\\waleed\\lib\\site-packages (from requests>=2.23.0->ultralytics) (2.1.0)\n",
      "Requirement already satisfied: certifi>=2017.4.17 in c:\\users\\hp\\miniconda3\\envs\\waleed\\lib\\site-packages (from requests>=2.23.0->ultralytics) (2023.11.17)\n",
      "Requirement already satisfied: filelock in c:\\users\\hp\\miniconda3\\envs\\waleed\\lib\\site-packages (from torch>=1.8.0->ultralytics) (3.13.1)\n",
      "Requirement already satisfied: typing-extensions in c:\\users\\hp\\miniconda3\\envs\\waleed\\lib\\site-packages (from torch>=1.8.0->ultralytics) (4.10.0)\n",
      "Requirement already satisfied: sympy in c:\\users\\hp\\miniconda3\\envs\\waleed\\lib\\site-packages (from torch>=1.8.0->ultralytics) (1.12)\n",
      "Requirement already satisfied: networkx in c:\\users\\hp\\miniconda3\\envs\\waleed\\lib\\site-packages (from torch>=1.8.0->ultralytics) (3.2.1)\n",
      "Requirement already satisfied: jinja2 in c:\\users\\hp\\miniconda3\\envs\\waleed\\lib\\site-packages (from torch>=1.8.0->ultralytics) (3.1.2)\n",
      "Requirement already satisfied: fsspec in c:\\users\\hp\\miniconda3\\envs\\waleed\\lib\\site-packages (from torch>=1.8.0->ultralytics) (2023.10.0)\n",
      "Requirement already satisfied: colorama in c:\\users\\hp\\miniconda3\\envs\\waleed\\lib\\site-packages (from tqdm>=4.64.0->ultralytics) (0.4.6)\n",
      "Requirement already satisfied: six>=1.5 in c:\\users\\hp\\miniconda3\\envs\\waleed\\lib\\site-packages (from python-dateutil>=2.7->matplotlib>=3.3.0->ultralytics) (1.16.0)\n",
      "Requirement already satisfied: MarkupSafe>=2.0 in c:\\users\\hp\\miniconda3\\envs\\waleed\\lib\\site-packages (from jinja2->torch>=1.8.0->ultralytics) (2.1.3)\n",
      "Requirement already satisfied: mpmath>=0.19 in c:\\users\\hp\\miniconda3\\envs\\waleed\\lib\\site-packages (from sympy->torch>=1.8.0->ultralytics) (1.3.0)\n"
     ]
    }
   ],
   "source": [
    "!pip install ultralytics"
   ]
  },
  {
   "cell_type": "code",
   "execution_count": 9,
   "metadata": {},
   "outputs": [
    {
     "name": "stderr",
     "output_type": "stream",
     "text": [
      "\n",
      "0: 480x640 (no detections), 388.3ms\n",
      "Speed: 5.0ms preprocess, 388.3ms inference, 2.0ms postprocess per image at shape (1, 3, 480, 640)\n",
      "\n",
      "0: 480x640 2 faces, 428.2ms\n",
      "Speed: 7.8ms preprocess, 428.2ms inference, 4.0ms postprocess per image at shape (1, 3, 480, 640)\n",
      "\n",
      "0: 480x640 (no detections), 430.9ms\n",
      "Speed: 7.7ms preprocess, 430.9ms inference, 3.0ms postprocess per image at shape (1, 3, 480, 640)\n",
      "\n",
      "0: 480x640 (no detections), 428.9ms\n",
      "Speed: 12.6ms preprocess, 428.9ms inference, 4.0ms postprocess per image at shape (1, 3, 480, 640)\n",
      "\n",
      "0: 480x640 (no detections), 503.1ms\n",
      "Speed: 8.0ms preprocess, 503.1ms inference, 3.5ms postprocess per image at shape (1, 3, 480, 640)\n",
      "\n",
      "0: 480x640 (no detections), 473.2ms\n",
      "Speed: 8.0ms preprocess, 473.2ms inference, 2.5ms postprocess per image at shape (1, 3, 480, 640)\n",
      "\n",
      "0: 480x640 (no detections), 451.4ms\n",
      "Speed: 8.4ms preprocess, 451.4ms inference, 3.0ms postprocess per image at shape (1, 3, 480, 640)\n",
      "\n",
      "0: 480x640 (no detections), 477.2ms\n",
      "Speed: 6.4ms preprocess, 477.2ms inference, 2.6ms postprocess per image at shape (1, 3, 480, 640)\n"
     ]
    }
   ],
   "source": [
    "import cv2\n",
    "import ultralytics\n",
    "import numpy as np\n",
    "\n",
    "# Load the YOLO model\n",
    "model = ultralytics.YOLO(\"yolov8n-face.pt\")\n",
    "\n",
    "# Capture video from the IP camera\n",
    "cap = cv2.VideoCapture(0)\n",
    "\n",
    "\n",
    "# Loop over the frames\n",
    "while True:\n",
    "    # Read the next frame from the camera\n",
    "    _, img = cap.read()\n",
    "\n",
    "    # Make a prediction using the YOLO model\n",
    "    results = model.predict(img)\n",
    "    # results = model.predict(resized_img)\n",
    "    result = results[0]\n",
    "\n",
    "    # Draw bounding boxes around detected faces\n",
    "    for box in result.boxes:\n",
    "        top_left_x = round(box.xyxy[0].tolist()[0])\n",
    "        top_left_y = round(box.xyxy[0].tolist()[1])\n",
    "        bottom_right_x = round(box.xyxy[0].tolist()[2])\n",
    "        bottom_right_y = round(box.xyxy[0].tolist()[3])\n",
    "\n",
    "        cv2.rectangle(img, (top_left_x, top_left_y), (bottom_right_x, bottom_right_y), (50, 200, 129), 2)\n",
    "        cv2.rectangle(img, (top_left_x, top_left_y), (bottom_right_x, bottom_right_y), (50, 200, 129), 2)\n",
    "        cropped_image = img[top_left_y:bottom_right_y, top_left_x:bottom_right_x]      \n",
    "        # blinkLED()\n",
    "        imgStudent = cropped_image\n",
    "        # # Display the frame with the bounding boxes\n",
    "    imgBackground[118:118+480,80:80+640] = img\n",
    "    # # Display the frame with the bounding boxes\n",
    "    cv2.imshow('Face Attendance',imgBackground)\n",
    "    putText()\n",
    "\n",
    "    key = cv2.waitKey(1) & 0xFF\n",
    "\n",
    "    if key == ord('q'):\n",
    "        break\n",
    "\n",
    "# Release the VideoCapture object\n",
    "cap.release()\n",
    "\n",
    "# Close all windows\n",
    "cv2.destroyAllWindows()\n"
   ]
  },
  {
   "cell_type": "code",
   "execution_count": null,
   "metadata": {},
   "outputs": [],
   "source": []
  }
 ],
 "metadata": {
  "kernelspec": {
   "display_name": "YOLO-2",
   "language": "python",
   "name": "python3"
  },
  "language_info": {
   "codemirror_mode": {
    "name": "ipython",
    "version": 3
   },
   "file_extension": ".py",
   "mimetype": "text/x-python",
   "name": "python",
   "nbconvert_exporter": "python",
   "pygments_lexer": "ipython3",
   "version": "3.10.13"
  }
 },
 "nbformat": 4,
 "nbformat_minor": 2
}
